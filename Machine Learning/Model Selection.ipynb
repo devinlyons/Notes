{
 "cells": [
  {
   "cell_type": "markdown",
   "metadata": {},
   "source": [
    "# Model Selection"
   ]
  },
  {
   "cell_type": "markdown",
   "metadata": {},
   "source": [
    " - Underfitting (high bias)\n",
    " - Overfitting (high variance)\n",
    "   - The model memorized the dataset instead of learning it\n",
    " - Test data should not be used to test fitting during training\n",
    " - A cross validation dataset should be used for fit testing\n",
    " - K-Fold Cross Validation can be done so the validation data set does not get lost for training\n",
    " - A Model Complexity Graph can be used to detect over or underfitting during training\n",
    "   - Model Complexity Graphs track the training and validation error for each iteration\n",
    "   - When the validation error starts to increase, the model is being overfit\n",
    " - A Learning Curve can be used to detect over or underfitting after training\n",
    "   - This curve it built by plotting the error resulting in plotting just a few items from the training and test sets\n",
    "   - This is done repeatedly until a pattern emerges\n",
    "     - If the lines converge at a high error, the model has a high bias\n",
    "     - If the lines converge at a low error, the model is just right\n",
    "     - If the lines do not converge, the model has a high variance\n",
    "     \n",
    "![Learning Curve](../resource_files/learning-curves.png)\n",
    "\n",
    " - Grid Search Cross Validation can be used to find parameters for Support Vector Machines\n",
    "   - Create a grid with 1 column for C and 1 column for each kernel\n",
    "   - Add rows for different values of C\n",
    "     - Choose exponentially increasing values\n",
    "   - Fill in the model evaluation metric and pick the best model"
   ]
  },
  {
   "cell_type": "code",
   "execution_count": null,
   "metadata": {},
   "outputs": [],
   "source": []
  }
 ],
 "metadata": {
  "kernelspec": {
   "display_name": "Python [conda env:py3]",
   "language": "python",
   "name": "conda-env-py3-py"
  },
  "language_info": {
   "codemirror_mode": {
    "name": "ipython",
    "version": 3
   },
   "file_extension": ".py",
   "mimetype": "text/x-python",
   "name": "python",
   "nbconvert_exporter": "python",
   "pygments_lexer": "ipython3",
   "version": "3.6.6"
  }
 },
 "nbformat": 4,
 "nbformat_minor": 2
}
