{
 "cells": [
  {
   "cell_type": "markdown",
   "metadata": {},
   "source": [
    "# Neural Networks"
   ]
  },
  {
   "cell_type": "markdown",
   "metadata": {},
   "source": [
    "Neural Networks are made up of layers of nodes.\n",
    "There are 3 kinds of layers:\n",
    "1. Input layers\n",
    "2. Hidden layers\n",
    "3. Output layers\n",
    "\n",
    "A neural network has 1 input and output layer and $n$ hidden layers.\n",
    "\n",
    "Each layer has many nodes.\n",
    "The input layer must have the same number of nodes as the input data.\n",
    "The output layer must have the same number of nodes as the prediction.\n",
    "The hidden layers can have any number of nodes.\n",
    "\n",
    "Each node in a network takes input from the every node in the previous layer or from the input.\n",
    "The value of the input is then multiplied by a weight that is distinct for each input.\n",
    "A bias is then applied to the node before it passes through an activation function.\n",
    "The values eventually reach the output layer as the final prediction.\n",
    "\n",
    "![Neural Network Diagram](../resource_files/neural-network.png)\n",
    "\n",
    "## Training\n",
    "To train a neural network, training data is passed through the network and graded by some error function.\n",
    "This is called **Feedforward**.\n",
    "After the error has been determined, it can be used to adjust the weights of the nodes and the bias using **Backpropagation**.\n",
    "This is typically done using the **Gradient Decent** algorithm with the **Sum of Squared Errors(SSE)** or some other function."
   ]
  },
  {
   "cell_type": "code",
   "execution_count": null,
   "metadata": {},
   "outputs": [],
   "source": []
  }
 ],
 "metadata": {
  "kernelspec": {
   "display_name": "Python [conda env:py3]",
   "language": "python",
   "name": "conda-env-py3-py"
  },
  "language_info": {
   "codemirror_mode": {
    "name": "ipython",
    "version": 3
   },
   "file_extension": ".py",
   "mimetype": "text/x-python",
   "name": "python",
   "nbconvert_exporter": "python",
   "pygments_lexer": "ipython3",
   "version": "3.6.6"
  }
 },
 "nbformat": 4,
 "nbformat_minor": 2
}
