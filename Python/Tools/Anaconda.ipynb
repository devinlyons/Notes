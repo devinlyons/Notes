{
 "cells": [
  {
   "cell_type": "markdown",
   "metadata": {},
   "source": [
    "# Anaconda\n",
    "\n",
    "Anaconda is a package and environment manager for Python focusing on data science.\n",
    "Anaconda can be found at https://www.anaconda.com/.\n",
    "\n",
    "## Commands\n",
    "### Packages\n",
    " - `conda list` - Show all packages installed in the environment.\n",
    " - `conda install` - Install a list of packages.\n",
    " - `conda remove` - Removes a list of packages.\n",
    " - `conda update` - Updates a list of packages.\n",
    " - `conda upgrade [pkg|--all]` - Upgrades a list of packages or all packages.\n",
    " - `conda search *search_term*` - search packages. Search term may need to be quoted.\n",
    "\n",
    "### Environments\n",
    " - `conda create -n env_name python=3 pkg_list` - Creates a new environment named `env_name` with a list of packages using python 3.\n",
    " - `conta env remove -n env_name` - Removes an environment named `env_name`.\n",
    " - `activate env_name` - Enter an environment.\n",
    " - `deactivate` - Leave an environment.\n",
    " - `conda env export > env.yaml` - Export an environment to `env.yaml`.\n",
    " - `pip freeze > requirements.txt` - Export an environment in PIP format.\n",
    " - `conda env create -f env.yaml` - Creates an environment from `env.yaml`.\n",
    " - `conda env list` - Lists environments."
   ]
  },
  {
   "cell_type": "code",
   "execution_count": null,
   "metadata": {},
   "outputs": [],
   "source": []
  }
 ],
 "metadata": {
  "kernelspec": {
   "display_name": "Python [conda env:py3]",
   "language": "python",
   "name": "conda-env-py3-py"
  },
  "language_info": {
   "codemirror_mode": {
    "name": "ipython",
    "version": 3
   },
   "file_extension": ".py",
   "mimetype": "text/x-python",
   "name": "python",
   "nbconvert_exporter": "python",
   "pygments_lexer": "ipython3",
   "version": "3.6.6"
  }
 },
 "nbformat": 4,
 "nbformat_minor": 2
}
