{
 "cells": [
  {
   "cell_type": "markdown",
   "metadata": {},
   "source": [
    "# Jupyter Notebooks\n",
    "\n",
    "## Installation\n",
    "`conda install jupyter notebook` or `pip install jupyter notebook`.\n",
    "\n",
    "## Launching\n",
    "The command `jupyter notebook` will launch the jupyter server in the current directory on http://localhost:8888.\n",
    "The port number will increment with each concurrent server.\n",
    "\n",
    "## Packages\n",
    "`nb_conda` will allow jupyter to manage anaconda environments.\n",
    "\n",
    "## Magic Keywords\n",
    "Lines magics start with `%` and cell magics start with `%%`.\n",
    "\n",
    " - `timeit` will time code execution.\n",
    " - `matplotlib` allows the creation of visualizations in a notebook. \n",
    " - `matplotlib inline` allows visualizations to be rendered inline.\n",
    " - `config InlineBackend.figure_format = 'retina'` allows visualizations to be rendered in higher resolution.\n",
    " - `pdb` allows debugging of a notebook.\n",
    "\n",
    "## Converting Notebooks\n",
    "`jupyter nbconvert --to [html|markdown|slideshow] nobook.ipynb`\n"
   ]
  },
  {
   "cell_type": "code",
   "execution_count": null,
   "metadata": {},
   "outputs": [],
   "source": []
  }
 ],
 "metadata": {
  "kernelspec": {
   "display_name": "Python [conda env:py3]",
   "language": "python",
   "name": "conda-env-py3-py"
  },
  "language_info": {
   "codemirror_mode": {
    "name": "ipython",
    "version": 3
   },
   "file_extension": ".py",
   "mimetype": "text/x-python",
   "name": "python",
   "nbconvert_exporter": "python",
   "pygments_lexer": "ipython3",
   "version": "3.6.6"
  }
 },
 "nbformat": 4,
 "nbformat_minor": 2
}
